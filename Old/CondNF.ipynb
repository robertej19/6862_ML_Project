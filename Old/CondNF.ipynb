{
  "nbformat": 4,
  "nbformat_minor": 0,
  "metadata": {
    "colab": {
      "name": "CondNF.ipynb",
      "provenance": [],
      "collapsed_sections": [],
      "include_colab_link": true
    },
    "kernelspec": {
      "display_name": "Python 3",
      "language": "python",
      "name": "python3"
    },
    "language_info": {
      "codemirror_mode": {
        "name": "ipython",
        "version": 3
      },
      "file_extension": ".py",
      "mimetype": "text/x-python",
      "name": "python",
      "nbconvert_exporter": "python",
      "pygments_lexer": "ipython3",
      "version": "3.7.6"
    },
    "accelerator": "GPU"
  },
  "cells": [
    {
      "cell_type": "markdown",
      "metadata": {
        "id": "view-in-github",
        "colab_type": "text"
      },
      "source": [
        "<a href=\"https://colab.research.google.com/github/robertej19/6862_ML_Project/blob/main/CondNF.ipynb\" target=\"_parent\"><img src=\"https://colab.research.google.com/assets/colab-badge.svg\" alt=\"Open In Colab\"/></a>"
      ]
    },
    {
      "cell_type": "markdown",
      "metadata": {
        "id": "Pn6Irm81skmL"
      },
      "source": [
        "# 6.862 Team 3\n",
        "## Machine Learning Enhancements to Particle Physics Simulations to Reduce Computational Complexity\n",
        "\n",
        "We fork [https://github.com/bayesiains/nflows](https://github.com/bayesiains/nflows) and apply the MAF techinque to generate $\\mathbf{x}$ following unknown the target distribution $p(\\mathbf{x})$. The normalizing flow transforms the known base distribution $p(\\mathbf{z})$ into $p(\\mathbf{x})$. The MAF is one of existing flow models.\n",
        "\n",
        "## Loading libraries\n",
        "We assume this jupyter notebook is deployed in google colab."
      ]
    },
    {
      "cell_type": "code",
      "metadata": {
        "colab": {
          "base_uri": "https://localhost:8080/"
        },
        "id": "pz9IcZeFCz2G",
        "outputId": "362d06db-5427-4a2f-b75c-a359f7a8e6de"
      },
      "source": [
        "!pwd"
      ],
      "execution_count": 1,
      "outputs": [
        {
          "output_type": "stream",
          "text": [
            "/content\n"
          ],
          "name": "stdout"
        }
      ]
    },
    {
      "cell_type": "code",
      "metadata": {
        "id": "aQ7RISMJC4ej"
      },
      "source": [
        "import sys\n",
        "sys.path.insert(0,'/mnt/c/Users/rober/Dropbox/Bobby/Linux/classes/GAML/GAMLX/nflows/nflows/')\n",
        "#from nflows.transforms.autoregressive import MaskedUMNNAutoregressiveTransform\n",
        "\n",
        " "
      ],
      "execution_count": 2,
      "outputs": []
    },
    {
      "cell_type": "code",
      "metadata": {
        "colab": {
          "base_uri": "https://localhost:8080/"
        },
        "id": "Gs0mZUyVVzfj",
        "outputId": "c4cb2516-634a-4f33-d0e8-e700ac91008d"
      },
      "source": [
        "#copy files from dropbox \n",
        "!wget -O pi0.pkl https://www.dropbox.com/s/hrdhr5o1khtclmy/pi0.pkl?dl=0"
      ],
      "execution_count": 3,
      "outputs": [
        {
          "output_type": "stream",
          "text": [
            "--2021-05-12 21:58:07--  https://www.dropbox.com/s/hrdhr5o1khtclmy/pi0.pkl?dl=0\n",
            "Resolving www.dropbox.com (www.dropbox.com)... 162.125.6.18, 2620:100:601c:18::a27d:612\n",
            "Connecting to www.dropbox.com (www.dropbox.com)|162.125.6.18|:443... connected.\n",
            "HTTP request sent, awaiting response... 301 Moved Permanently\n",
            "Location: /s/raw/hrdhr5o1khtclmy/pi0.pkl [following]\n",
            "--2021-05-12 21:58:07--  https://www.dropbox.com/s/raw/hrdhr5o1khtclmy/pi0.pkl\n",
            "Reusing existing connection to www.dropbox.com:443.\n",
            "HTTP request sent, awaiting response... 302 Found\n",
            "Location: https://uc3b9e763c8b5407c26c97ac4c08.dl.dropboxusercontent.com/cd/0/inline/BOV6NtdhSI299V4nV-xpimWE8r9UBy3PqO0EO55ifXoJazj6SCUf9Uw0Tzo2U8x8-ezvDGTjjAAc2f1bIUYJz07zx0UeSBquBQkTtziiCfO4iafzHPcqnQJ6gfDkni25YUmkdJ8ONvHo-bZWfEChSjbW/file# [following]\n",
            "--2021-05-12 21:58:08--  https://uc3b9e763c8b5407c26c97ac4c08.dl.dropboxusercontent.com/cd/0/inline/BOV6NtdhSI299V4nV-xpimWE8r9UBy3PqO0EO55ifXoJazj6SCUf9Uw0Tzo2U8x8-ezvDGTjjAAc2f1bIUYJz07zx0UeSBquBQkTtziiCfO4iafzHPcqnQJ6gfDkni25YUmkdJ8ONvHo-bZWfEChSjbW/file\n",
            "Resolving uc3b9e763c8b5407c26c97ac4c08.dl.dropboxusercontent.com (uc3b9e763c8b5407c26c97ac4c08.dl.dropboxusercontent.com)... 162.125.6.15, 2620:100:601c:15::a27d:60f\n",
            "Connecting to uc3b9e763c8b5407c26c97ac4c08.dl.dropboxusercontent.com (uc3b9e763c8b5407c26c97ac4c08.dl.dropboxusercontent.com)|162.125.6.15|:443... connected.\n",
            "HTTP request sent, awaiting response... 302 Found\n",
            "Location: /cd/0/inline2/BOWNsSkPgkvfIk1d0A5muJRyMbqvw-jslJLGkCUAW4ywbb01Lsgw_POCdOJwpeIpgnkeRhgxgrhnrZhidwefdTjV842mrYXpPoL8HVoN8O40u_ImlUMKf0_lwhtTezwuUNl4T0SVE9cyeha25OYoNfM-IYkHxPBe-00M_rmIcixt1EPBKwNiwXtIaYQvlueJmiH_TAMC8W6u-grQ5rHfpW1hTmazglzx3j83IP9IEZ14BLRfPKsRMux362W4MGh9FQakhGrBaH-9Sbz2Uqugamx2v3Q5_lxv4BGd0XV9pkZgFsZE-qTmlpYKcJXWQtghGpO8tbVGMijUmpKGsl0UBhZUDZb5gFiATLIrvk3n9k6wDJzi2KR1E9FkfJZL2jYMjW8/file [following]\n",
            "--2021-05-12 21:58:08--  https://uc3b9e763c8b5407c26c97ac4c08.dl.dropboxusercontent.com/cd/0/inline2/BOWNsSkPgkvfIk1d0A5muJRyMbqvw-jslJLGkCUAW4ywbb01Lsgw_POCdOJwpeIpgnkeRhgxgrhnrZhidwefdTjV842mrYXpPoL8HVoN8O40u_ImlUMKf0_lwhtTezwuUNl4T0SVE9cyeha25OYoNfM-IYkHxPBe-00M_rmIcixt1EPBKwNiwXtIaYQvlueJmiH_TAMC8W6u-grQ5rHfpW1hTmazglzx3j83IP9IEZ14BLRfPKsRMux362W4MGh9FQakhGrBaH-9Sbz2Uqugamx2v3Q5_lxv4BGd0XV9pkZgFsZE-qTmlpYKcJXWQtghGpO8tbVGMijUmpKGsl0UBhZUDZb5gFiATLIrvk3n9k6wDJzi2KR1E9FkfJZL2jYMjW8/file\n",
            "Reusing existing connection to uc3b9e763c8b5407c26c97ac4c08.dl.dropboxusercontent.com:443.\n",
            "HTTP request sent, awaiting response... 200 OK\n",
            "Length: 1408375436 (1.3G) [application/octet-stream]\n",
            "Saving to: ‘pi0.pkl’\n",
            "\n",
            "pi0.pkl             100%[===================>]   1.31G   118MB/s    in 11s     \n",
            "\n",
            "2021-05-12 21:58:20 (122 MB/s) - ‘pi0.pkl’ saved [1408375436/1408375436]\n",
            "\n"
          ],
          "name": "stdout"
        }
      ]
    },
    {
      "cell_type": "code",
      "metadata": {
        "colab": {
          "base_uri": "https://localhost:8080/"
        },
        "id": "mMdQnrRTatNQ",
        "outputId": "fe3aba8f-0b5c-4810-a6f9-d7d9f63dee88"
      },
      "source": [
        "#Install module needed to unpack the downloaded data\n",
        "!pip3 install pickle5\n",
        "import pickle5 as pickle"
      ],
      "execution_count": 4,
      "outputs": [
        {
          "output_type": "stream",
          "text": [
            "Collecting pickle5\n",
            "\u001b[?25l  Downloading https://files.pythonhosted.org/packages/f7/4c/5c4dd0462c8d3a6bc4af500a6af240763c2ebd1efdc736fc2c946d44b70a/pickle5-0.0.11.tar.gz (132kB)\n",
            "\r\u001b[K     |██▌                             | 10kB 14.7MB/s eta 0:00:01\r\u001b[K     |█████                           | 20kB 17.9MB/s eta 0:00:01\r\u001b[K     |███████▍                        | 30kB 21.5MB/s eta 0:00:01\r\u001b[K     |██████████                      | 40kB 24.3MB/s eta 0:00:01\r\u001b[K     |████████████▍                   | 51kB 23.7MB/s eta 0:00:01\r\u001b[K     |██████████████▉                 | 61kB 24.3MB/s eta 0:00:01\r\u001b[K     |█████████████████▍              | 71kB 24.7MB/s eta 0:00:01\r\u001b[K     |███████████████████▉            | 81kB 22.7MB/s eta 0:00:01\r\u001b[K     |██████████████████████▎         | 92kB 23.1MB/s eta 0:00:01\r\u001b[K     |████████████████████████▉       | 102kB 23.9MB/s eta 0:00:01\r\u001b[K     |███████████████████████████▎    | 112kB 23.9MB/s eta 0:00:01\r\u001b[K     |█████████████████████████████▊  | 122kB 23.9MB/s eta 0:00:01\r\u001b[K     |████████████████████████████████| 133kB 23.9MB/s \n",
            "\u001b[?25hBuilding wheels for collected packages: pickle5\n",
            "  Building wheel for pickle5 (setup.py) ... \u001b[?25l\u001b[?25hdone\n",
            "  Created wheel for pickle5: filename=pickle5-0.0.11-cp37-cp37m-linux_x86_64.whl size=219245 sha256=7e1d971c3d1a13d96e353b5014f18ba03673e717b839e1a88995e937f55560df\n",
            "  Stored in directory: /root/.cache/pip/wheels/a6/90/95/f889ca4aa8b0e0c7f21c8470b6f5d6032f0390a3a141a9a3bd\n",
            "Successfully built pickle5\n",
            "Installing collected packages: pickle5\n",
            "Successfully installed pickle5-0.0.11\n"
          ],
          "name": "stdout"
        }
      ]
    },
    {
      "cell_type": "code",
      "metadata": {
        "colab": {
          "base_uri": "https://localhost:8080/"
        },
        "id": "62vhy-_uXHOr",
        "outputId": "654b101a-5dfa-4e3b-b7ef-29ad326c86c1"
      },
      "source": [
        "!pip install nflows"
      ],
      "execution_count": 5,
      "outputs": [
        {
          "output_type": "stream",
          "text": [
            "Collecting nflows\n",
            "\u001b[?25l  Downloading https://files.pythonhosted.org/packages/bd/16/a484db41aab28332f42080435c9342fa87cfc9a4fce5495521ea1e80ca27/nflows-0.14.tar.gz (45kB)\n",
            "\r\u001b[K     |███████▏                        | 10kB 14.8MB/s eta 0:00:01\r\u001b[K     |██████████████▎                 | 20kB 20.3MB/s eta 0:00:01\r\u001b[K     |█████████████████████▌          | 30kB 23.7MB/s eta 0:00:01\r\u001b[K     |████████████████████████████▋   | 40kB 26.7MB/s eta 0:00:01\r\u001b[K     |████████████████████████████████| 51kB 7.2MB/s \n",
            "\u001b[?25hRequirement already satisfied: matplotlib in /usr/local/lib/python3.7/dist-packages (from nflows) (3.2.2)\n",
            "Requirement already satisfied: numpy in /usr/local/lib/python3.7/dist-packages (from nflows) (1.19.5)\n",
            "Requirement already satisfied: tensorboard in /usr/local/lib/python3.7/dist-packages (from nflows) (2.4.1)\n",
            "Requirement already satisfied: torch in /usr/local/lib/python3.7/dist-packages (from nflows) (1.8.1+cu101)\n",
            "Requirement already satisfied: tqdm in /usr/local/lib/python3.7/dist-packages (from nflows) (4.41.1)\n",
            "Requirement already satisfied: kiwisolver>=1.0.1 in /usr/local/lib/python3.7/dist-packages (from matplotlib->nflows) (1.3.1)\n",
            "Requirement already satisfied: cycler>=0.10 in /usr/local/lib/python3.7/dist-packages (from matplotlib->nflows) (0.10.0)\n",
            "Requirement already satisfied: python-dateutil>=2.1 in /usr/local/lib/python3.7/dist-packages (from matplotlib->nflows) (2.8.1)\n",
            "Requirement already satisfied: pyparsing!=2.0.4,!=2.1.2,!=2.1.6,>=2.0.1 in /usr/local/lib/python3.7/dist-packages (from matplotlib->nflows) (2.4.7)\n",
            "Requirement already satisfied: requests<3,>=2.21.0 in /usr/local/lib/python3.7/dist-packages (from tensorboard->nflows) (2.23.0)\n",
            "Requirement already satisfied: google-auth<2,>=1.6.3 in /usr/local/lib/python3.7/dist-packages (from tensorboard->nflows) (1.30.0)\n",
            "Requirement already satisfied: protobuf>=3.6.0 in /usr/local/lib/python3.7/dist-packages (from tensorboard->nflows) (3.12.4)\n",
            "Requirement already satisfied: six>=1.10.0 in /usr/local/lib/python3.7/dist-packages (from tensorboard->nflows) (1.15.0)\n",
            "Requirement already satisfied: werkzeug>=0.11.15 in /usr/local/lib/python3.7/dist-packages (from tensorboard->nflows) (1.0.1)\n",
            "Requirement already satisfied: grpcio>=1.24.3 in /usr/local/lib/python3.7/dist-packages (from tensorboard->nflows) (1.32.0)\n",
            "Requirement already satisfied: wheel>=0.26; python_version >= \"3\" in /usr/local/lib/python3.7/dist-packages (from tensorboard->nflows) (0.36.2)\n",
            "Requirement already satisfied: setuptools>=41.0.0 in /usr/local/lib/python3.7/dist-packages (from tensorboard->nflows) (56.1.0)\n",
            "Requirement already satisfied: absl-py>=0.4 in /usr/local/lib/python3.7/dist-packages (from tensorboard->nflows) (0.12.0)\n",
            "Requirement already satisfied: markdown>=2.6.8 in /usr/local/lib/python3.7/dist-packages (from tensorboard->nflows) (3.3.4)\n",
            "Requirement already satisfied: tensorboard-plugin-wit>=1.6.0 in /usr/local/lib/python3.7/dist-packages (from tensorboard->nflows) (1.8.0)\n",
            "Requirement already satisfied: google-auth-oauthlib<0.5,>=0.4.1 in /usr/local/lib/python3.7/dist-packages (from tensorboard->nflows) (0.4.4)\n",
            "Requirement already satisfied: typing-extensions in /usr/local/lib/python3.7/dist-packages (from torch->nflows) (3.7.4.3)\n",
            "Requirement already satisfied: urllib3!=1.25.0,!=1.25.1,<1.26,>=1.21.1 in /usr/local/lib/python3.7/dist-packages (from requests<3,>=2.21.0->tensorboard->nflows) (1.24.3)\n",
            "Requirement already satisfied: idna<3,>=2.5 in /usr/local/lib/python3.7/dist-packages (from requests<3,>=2.21.0->tensorboard->nflows) (2.10)\n",
            "Requirement already satisfied: chardet<4,>=3.0.2 in /usr/local/lib/python3.7/dist-packages (from requests<3,>=2.21.0->tensorboard->nflows) (3.0.4)\n",
            "Requirement already satisfied: certifi>=2017.4.17 in /usr/local/lib/python3.7/dist-packages (from requests<3,>=2.21.0->tensorboard->nflows) (2020.12.5)\n",
            "Requirement already satisfied: rsa<5,>=3.1.4; python_version >= \"3.6\" in /usr/local/lib/python3.7/dist-packages (from google-auth<2,>=1.6.3->tensorboard->nflows) (4.7.2)\n",
            "Requirement already satisfied: pyasn1-modules>=0.2.1 in /usr/local/lib/python3.7/dist-packages (from google-auth<2,>=1.6.3->tensorboard->nflows) (0.2.8)\n",
            "Requirement already satisfied: cachetools<5.0,>=2.0.0 in /usr/local/lib/python3.7/dist-packages (from google-auth<2,>=1.6.3->tensorboard->nflows) (4.2.2)\n",
            "Requirement already satisfied: importlib-metadata; python_version < \"3.8\" in /usr/local/lib/python3.7/dist-packages (from markdown>=2.6.8->tensorboard->nflows) (4.0.1)\n",
            "Requirement already satisfied: requests-oauthlib>=0.7.0 in /usr/local/lib/python3.7/dist-packages (from google-auth-oauthlib<0.5,>=0.4.1->tensorboard->nflows) (1.3.0)\n",
            "Requirement already satisfied: pyasn1>=0.1.3 in /usr/local/lib/python3.7/dist-packages (from rsa<5,>=3.1.4; python_version >= \"3.6\"->google-auth<2,>=1.6.3->tensorboard->nflows) (0.4.8)\n",
            "Requirement already satisfied: zipp>=0.5 in /usr/local/lib/python3.7/dist-packages (from importlib-metadata; python_version < \"3.8\"->markdown>=2.6.8->tensorboard->nflows) (3.4.1)\n",
            "Requirement already satisfied: oauthlib>=3.0.0 in /usr/local/lib/python3.7/dist-packages (from requests-oauthlib>=0.7.0->google-auth-oauthlib<0.5,>=0.4.1->tensorboard->nflows) (3.1.0)\n",
            "Building wheels for collected packages: nflows\n",
            "  Building wheel for nflows (setup.py) ... \u001b[?25l\u001b[?25hdone\n",
            "  Created wheel for nflows: filename=nflows-0.14-cp37-none-any.whl size=53672 sha256=e7bf34bc03e65da16cb38f64b729c939807617aaba5b6e94614de354d6547ccc\n",
            "  Stored in directory: /root/.cache/pip/wheels/3d/88/9b/87a9884189f450092eb3bbe6a56bb23c17f4788ed3d5d5f7e4\n",
            "Successfully built nflows\n",
            "Installing collected packages: nflows\n",
            "Successfully installed nflows-0.14\n"
          ],
          "name": "stdout"
        }
      ]
    },
    {
      "cell_type": "code",
      "metadata": {
        "id": "NH2IULf2VShN"
      },
      "source": [
        "import matplotlib.pyplot as plt\n",
        "import matplotlib as mpl\n",
        "import sklearn.datasets as datasets\n",
        "import itertools\n",
        "import numpy as np\n",
        "%matplotlib inline\n",
        "from datetime import datetime\n",
        "from scipy.stats import entropy\n",
        "from scipy.stats import wasserstein_distance\n",
        "from scipy.spatial import distance\n",
        "\n",
        "\n",
        "import torch\n",
        "from torch import nn\n",
        "from torch import optim\n",
        "\n",
        "from sklearn.model_selection import train_test_split\n",
        "from sklearn.preprocessing import RobustScaler, MaxAbsScaler, QuantileTransformer\n",
        "import pandas as pd\n",
        "\n",
        "from nflows.distributions.normal import StandardNormal, ConditionalDiagonalNormal\n",
        "from nflows.flows.base import Flow\n",
        "from nflows.distributions.normal import StandardNormal\n",
        "from nflows.distributions.normal import DiagonalNormal\n",
        "from nflows.transforms.base import CompositeTransform\n",
        "from nflows.transforms.autoregressive import MaskedAffineAutoregressiveTransform\n",
        "from nflows.transforms.permutations import ReversePermutation"
      ],
      "execution_count": 6,
      "outputs": []
    },
    {
      "cell_type": "markdown",
      "metadata": {
        "id": "3XbyIYPKzT3V"
      },
      "source": [
        "## Define the data class\n",
        "\n",
        "\n",
        "The data class reads the downloaded `pi0.pkl` and save them in the varaiable `xz`, `x`, `z`. The `x` and `z` contains encoded particle codes, which are not necessary for the flow model. The `xwithoutPid` and `zwithoutPid` are the varaiables don't contain particle codes for one row. The method `sample` is defined to pick partial rows in given size, where the row indices are randomized."
      ]
    },
    {
      "cell_type": "code",
      "metadata": {
        "id": "xXeYhnLCtjk4"
      },
      "source": [
        "#Create data class\n",
        "class dataXZ:\n",
        "  \"\"\"\n",
        "  read the data stored in pickle format\n",
        "  the converting routine is at https://github.com/6862-2021SP-team3/hipo2pickle\n",
        "  \"\"\"\n",
        "  \n",
        "  def __init__(self, standard = False):\n",
        "    with open('pi0.pkl', 'rb') as f:\n",
        "        xz = np.array(pickle.load(f), dtype=np.float32)\n",
        "        #xz = xz[:, 1:]\n",
        "        #z = xz[:, 16:]\n",
        "        x = cartesian_converter(xz,type='x')\n",
        "        z = cartesian_converter(xz,type='z')\n",
        "        # x = x[:, [0,4,8,12]]\n",
        "        #x = x[:, [3,7,11,15]]\n",
        "        #x = x[:, [1,2,3,4]]\n",
        "        x = x[:, [1,2]]\n",
        "        z = z[:, [1,2]]\n",
        "\n",
        "\n",
        "\n",
        "        #x = xz[:, :16]\n",
        "        #xwithoutPid = x[:, [0, 1, 2, 4, 5, 6, 8, 9, 10, 12, 13, 14]]\n",
        "        #xwithoutPid = x[:, [0,  4, 8, 12, ]]\n",
        "        xwithoutPid = x\n",
        "\n",
        "        #xwithoutPid = x[:, [0, 1, 4, 5, 8, 12, ]]\n",
        "        # zwithoutPid = z[:, [0, 1, 2, 4, 5, 6, 8, 9, 10, 12, 13, 14]]\n",
        "        self.xz = xz\n",
        "        # # self.gs = self.gausser(x)\n",
        "        # # data_train_X = pd.DataFrame(self.gs.transform(x))\n",
        "        # # data_train_Z = data_train_X.to_numpy()\n",
        "        self.x = torch.from_numpy(np.array(x))\n",
        "        self.xwithoutPid = torch.from_numpy(np.array(xwithoutPid))\n",
        "        \n",
        "\n",
        "        self.z = torch.from_numpy(np.array(z))\n",
        "        # # self.xwithoutPid = torch.from_numpy(data_train_Z)\n",
        "        # # # self.zwithoutPid = torch.from_numpy(zwithoutPid)\n",
        "\n",
        "    if standard:\n",
        "      self.standardize()\n",
        "\n",
        "  def gausser(self,x):\n",
        "    gauss_scaler = QuantileTransformer(output_distribution='normal').fit(x)\n",
        "    return gauss_scaler\n",
        "\n",
        "  def standardize(self):\n",
        "    self.xMu = self.xwithoutPid.mean(0)\n",
        "    self.xStd = self.xwithoutPid.std(0)\n",
        "    #self.zMu = self.zwithoutPid.mean(0)\n",
        "    #self.zStd = self.zwithoutPid.std(0)\n",
        "    self.xwithoutPid = (self.xwithoutPid - self.xMu) / self.xStd\n",
        "    #self.zwithoutPid = (self.zwithoutPid - self.zMu) / self.zStd\n",
        "\n",
        "  def restore(self, data, type = \"x\"):\n",
        "    mu = self.xMu\n",
        "    std = self.xStd\n",
        "    if type == \"z\":\n",
        "      mu = self.zMu\n",
        "      std = self.zStd\n",
        "    return data * std + mu\n",
        "\n",
        "  def sample(self, n):\n",
        "        randint = np.random.randint( self.xz.shape[0], size =n)\n",
        "        xz = self.xz[randint]\n",
        "        x = self.x[randint]\n",
        "        z = self.z[randint]\n",
        "        xwithoutPid = self.xwithoutPid[randint]\n",
        "        # zwithoutPid = self.zwithoutPid[randint]\n",
        "        # return {\"xz\":xz, \"x\": x, \"z\": z, \"xwithoutPid\": xwithoutPid, \"zwithoutPid\": zwithoutPid}\n",
        "        return {\"xz\":xz, \"x\": x,\"z\": z, \"xwithoutPid\": xwithoutPid}"
      ],
      "execution_count": 7,
      "outputs": []
    },
    {
      "cell_type": "code",
      "metadata": {
        "id": "pds6ztLxkiSY"
      },
      "source": [
        "#returns an nx16 array, of energy, px, py, pz, for electron, proton, g1, g2\n",
        "#You should just pass it the xz object from the dataXZ() class\n",
        "def cartesian_converter(xznp,type='x'):\n",
        "  #split into electron, proton, gammas\n",
        "  if type=='x':\n",
        "    e_vec = xznp[:,1:5]\n",
        "    p_vec = xznp[:,5:9]\n",
        "    g1_vec = xznp[:,9:13]\n",
        "    g2_vec = xznp[:,13:17]\n",
        "  if type=='z':\n",
        "    e_vec = xznp[:,17:21]\n",
        "    p_vec = xznp[:,21:25]\n",
        "    g1_vec = xznp[:,25:29]\n",
        "    g2_vec = xznp[:,29:33]\n",
        "\n",
        "    # print(\"evec\")\n",
        "    # print(e_vec)\n",
        "    # print(\"pvec\")\n",
        "    # print(p_vec)\n",
        "    # print(\"g1vec\")\n",
        "    # print(g1_vec)\n",
        "    # print(\"g2vec\")\n",
        "    # print(g2_vec)\n",
        "\n",
        "\n",
        "  mass_e = .000511\n",
        "  mass_p = 0.938\n",
        "  mass_g = 0\n",
        "\n",
        "  particles = [e_vec,p_vec,g1_vec,g2_vec]\n",
        "  masses = [mass_e,mass_p,mass_g,mass_g]\n",
        "\n",
        "  parts_new = []\n",
        "  #convert from spherical to cartesian\n",
        "  for part_vec, mass in zip(particles,masses):\n",
        "    mom = part_vec[:,0]\n",
        "    thet = part_vec[:,1]*np.pi/180\n",
        "    phi = part_vec[:,2]*np.pi/180\n",
        "\n",
        "    pz = mom*np.cos(thet)\n",
        "    px = mom*np.sin(thet)*np.cos(phi)\n",
        "    py = mom*np.sin(thet)*np.sin(phi)\n",
        "    p2 = pz*pz+px*px+py*py\n",
        "    E = np.sqrt(mass**2+p2)\n",
        "    \n",
        "    x_new = np.array([E,px,py,pz])\n",
        "    parts_new.append(x_new)\n",
        "\n",
        "  #reshape output into 1x16 arrays for each event\n",
        "  e = parts_new[0]\n",
        "  p = parts_new[1]\n",
        "  g1 = parts_new[2]\n",
        "  g2 = parts_new[3]\n",
        "  out = np.concatenate((e.T,p.T,g1.T,g2.T), axis=1)\n",
        "\n",
        "  return out\n",
        "  #test"
      ],
      "execution_count": 8,
      "outputs": []
    },
    {
      "cell_type": "code",
      "metadata": {
        "colab": {
          "base_uri": "https://localhost:8080/"
        },
        "id": "EjFTl9SpxU0g",
        "outputId": "359be539-d9df-475a-db9e-134372fd090c"
      },
      "source": [
        "# Define device to be used\n",
        "dev = \"cuda:0\" if torch.cuda.is_available() else \"cpu\"\n",
        "device = torch.device(dev)\n",
        "print(dev)"
      ],
      "execution_count": 9,
      "outputs": [
        {
          "output_type": "stream",
          "text": [
            "cuda:0\n"
          ],
          "name": "stdout"
        }
      ]
    },
    {
      "cell_type": "code",
      "metadata": {
        "id": "nzcZ6TgUbCUI"
      },
      "source": [
        "#read the data, with the defined data class\n",
        "xz = dataXZ(standard=False)\n",
        "x = xz.x\n",
        "z = xz.z\n"
      ],
      "execution_count": 10,
      "outputs": []
    },
    {
      "cell_type": "code",
      "metadata": {
        "colab": {
          "base_uri": "https://localhost:8080/"
        },
        "id": "rEpzf0hHttOh",
        "outputId": "81d43a3c-3cf6-4b20-b78c-3d526558b0cc"
      },
      "source": [
        "#debug the data class.\n",
        "sampleDict = xz.sample(4) \n",
        "print(sampleDict[\"x\"])\n",
        "print(sampleDict[\"z\"])\n",
        "sampleDict = xz.sample(500000) #Get a subset of the datapoints"
      ],
      "execution_count": 11,
      "outputs": [
        {
          "output_type": "stream",
          "text": [
            "tensor([[ 1.2413,  0.2819],\n",
            "        [ 0.4730,  1.1168],\n",
            "        [ 0.2904,  1.2309],\n",
            "        [ 1.1770, -0.1765]])\n",
            "tensor([[ 1.2528,  0.2778],\n",
            "        [ 0.4730,  1.1092],\n",
            "        [ 0.2913,  1.2321],\n",
            "        [ 1.1777, -0.1715]])\n"
          ],
          "name": "stdout"
        }
      ]
    },
    {
      "cell_type": "code",
      "metadata": {
        "id": "KltBDGjOQvpI",
        "colab": {
          "base_uri": "https://localhost:8080/",
          "height": 439
        },
        "outputId": "2ce82a76-aa86-4736-9dbc-0fa94d7c0956"
      },
      "source": [
        "\n",
        "x = sampleDict[\"z\"]\n",
        "x = x.detach().numpy()\n",
        "\n",
        "bin_size = [100,100]\n",
        "\n",
        "fig, ax = plt.subplots(figsize =(5, 3)) \n",
        "plt.hist2d(x[:,0], x[:,1],bins =bin_size,norm=mpl.colors.LogNorm())# cmap = plt.cm.nipy_spectral) \n",
        "plt.colorbar()\n",
        "print(\"next one\")\n",
        "\n",
        "\n",
        "x = sampleDict[\"x\"]\n",
        "x = x.detach().numpy()\n",
        "\n",
        "bin_size = [100,100]\n",
        "\n",
        "fig, ax = plt.subplots(figsize =(5, 3)) \n",
        "plt.hist2d(x[:,0], x[:,1],bins =bin_size,norm=mpl.colors.LogNorm())# cmap = plt.cm.nipy_spectral) \n",
        "plt.colorbar()\n",
        "print(\"next one\")\n",
        "\n",
        "# xyz = xz.gs\n",
        "\n",
        "# x = xyz.inverse_transform(x)\n",
        "\n",
        "# fig, ax = plt.subplots(figsize =(5, 3)) \n",
        "# plt.hist2d(x[:,0], x[:,1],bins =bin_size,norm=mpl.colors.LogNorm())# cmap = plt.cm.nipy_spectral) \n",
        "# plt.colorbar()\n",
        "# print(\"next one\")\n",
        "\n",
        "\n",
        "# data_train = x\n",
        "# data_train_X = pd.DataFrame(gauss_scaler.transform(data_train))\n",
        "# data_train_Z = data_train_X.to_numpy()\n",
        "# test_transformed = gauss_scaler.inverse_transform(data_train_X.to_numpy())\n",
        "# print(data_train)       \n",
        "\n",
        "# test_transformed = gauss_scaler.inverse_transform(data_train_X.to_numpy())\n",
        "# data_train.hist()\n",
        "\n",
        "# x = data_train\n",
        "# fig, ax = plt.subplots(figsize =(5, 3)) \n",
        "# plt.hist2d(x[:,0], x[:,1],bins =bin_size,norm=mpl.colors.LogNorm())# cmap = plt.cm.nipy_spectral) \n",
        "# plt.colorbar()\n",
        "# print(\"next one\")\n",
        "\n",
        "# z = data_train_Z\n",
        "# fig, ax = plt.subplots(figsize =(5, 3)) \n",
        "# plt.hist(z[:,0],bins=100) \n",
        "# fig, ax = plt.subplots(figsize =(5, 3)) \n",
        "# plt.hist(z[:,1],bins=100) \n",
        "# fig, ax = plt.subplots(figsize =(5, 3)) \n",
        "# plt.hist2d(z[:,0], z[:,1],bins =bin_size,norm=mpl.colors.LogNorm())# cmap = plt.cm.nipy_spectral) \n",
        "# plt.colorbar()\n",
        "# print(\"next one\")\n",
        "# fig, ax = plt.subplots(figsize =(5, 3)) \n",
        "# plt.hist2d(z[:,2], z[:,3],bins =bin_size,norm=mpl.colors.LogNorm())# cmap = plt.cm.nipy_spectral) \n",
        "# plt.colorbar()\n",
        "\n"
      ],
      "execution_count": 12,
      "outputs": [
        {
          "output_type": "stream",
          "text": [
            "next one\n",
            "next one\n"
          ],
          "name": "stdout"
        },
        {
          "output_type": "display_data",
          "data": {
            "image/png": "[encoded data removed]",
            "text/plain": [
              "<Figure size 360x216 with 2 Axes>"
            ]
          },
          "metadata": {
            "tags": [],
            "needs_background": "light"
          }
        },
        {
          "output_type": "display_data",
          "data": {
            "image/png": "[encoded data removed]",
            "text/plain": [
              "<Figure size 360x216 with 2 Axes>"
            ]
          },
          "metadata": {
            "tags": [],
            "needs_background": "light"
          }
        }
      ]
    },
    {
      "cell_type": "markdown",
      "metadata": {
        "id": "fIF1Pw3_zwF-"
      },
      "source": [
        "## Construct a model\n",
        "We try with a 4d example, electron momentum magnitude and polar angle only. The prior can be any constant distributions, or the parent distributions of `z`. At this stage, we look into the proof of concept, starting with 2d constant distribution. We firstly use the logistic distribution, which can be inverse transform sampled from sigmoid distribution. We pick Adam as our optimizer."
      ]
    },
    {
      "cell_type": "code",
      "metadata": {
        "id": "EfoanPrWf0_5"
      },
      "source": [
        "num_features = 2\n",
        "\n",
        "in_columns = num_features\n",
        "out_columns = num_features\n",
        "\n",
        "context_encoder = nn.Sequential(\n",
        "          nn.Linear(num_features, 2*num_features),\n",
        "          nn.ReLU(),\n",
        "          nn.Linear(2*num_features, 2*num_features),\n",
        "          nn.ReLU(),\n",
        "          nn.Linear(2*num_features, 2*num_features)\n",
        "        )"
      ],
      "execution_count": 13,
      "outputs": []
    },
    {
      "cell_type": "code",
      "metadata": {
        "id": "3H_6lFAWVShV",
        "colab": {
          "base_uri": "https://localhost:8080/"
        },
        "outputId": "72bee5a5-a0e9-4438-e273-a20b91bbcad2"
      },
      "source": [
        "\n",
        "num_layers =6#12\n",
        "#base_dist = StandardNormal(shape=[num_features]\n",
        "base_dist = ConditionalDiagonalNormal(shape=[num_features],context_encoder=context_encoder)\n",
        "#base_dist = DiagonalNormal(shape=[3])\n",
        "transforms = []\n",
        "for _ in range(num_layers):\n",
        "    transforms.append(ReversePermutation(features=num_features))\n",
        "    # transforms.append(MaskedAffineAutoregressiveTransform(features=num_features, \n",
        "    #                                                      hidden_features=100))\n",
        "    transforms.append(MaskedAffineAutoregressiveTransform(features=num_features, \n",
        "                                                         hidden_features=100,\n",
        "                                                          context_features=num_features))\n",
        "    \n",
        "\n",
        "    #transforms.append(MaskedUMNNAutoregressiveTransform(features=num_features, \n",
        "    #                                                      hidden_features=4))\n",
        "transform = CompositeTransform(transforms)\n",
        "\n",
        "flow = Flow(transform, base_dist).to(device)\n",
        "optimizer = optim.Adam(flow.parameters())\n",
        "print(\"number of params: \", sum(p.numel() for p in flow.parameters()))"
      ],
      "execution_count": 14,
      "outputs": [
        {
          "output_type": "stream",
          "text": [
            "number of params:  252076\n"
          ],
          "name": "stdout"
        }
      ]
    },
    {
      "cell_type": "markdown",
      "metadata": {
        "id": "wUvjl2Pi2pEN"
      },
      "source": [
        "## Define some classes to visualize and evaluate the nflow models.\n",
        "We plot the distribution of each feature in the same axis. We evalute the distribution in terms of how close they are. The closeness is quantified by some metrics like KL divergence, Wasserstein distance, and Jensen-Sahnnon divergence."
      ]
    },
    {
      "cell_type": "code",
      "metadata": {
        "id": "1SXo0V96i6-v"
      },
      "source": [
        "def plot_histo_1D(real_vals, gen_vals, label_real=\"Physics Data\", label_gen=\"NFlow Model\", col2 = \"blue\",title=\"Physics vs NFlow Models\", saveloc=None):\n",
        "    fig, axes = plt.subplots(1, 4, figsize=(4*5, 5))\n",
        "    for INDEX, ax in zip((0, 1, 2,3 ), axes):\n",
        "        _, bins, _ = ax.hist(real_vals[:, INDEX], bins=100, color = \"red\", label=label_real, density=True)\n",
        "        ax.hist(gen_vals[:, INDEX], bins=bins, label=label_gen, color = col2,alpha=0.5, density=True)\n",
        "        ax.legend(loc=\"lower left\")\n",
        "        ax.set_title(\"Feature {}\".format(INDEX) )\n",
        "    plt.tight_layout()\n",
        "    if saveloc is not None: plt.savefig(saveloc)\n",
        "    plt.show()\n",
        "\n",
        "def meter(dist1,dist2,feature):\n",
        "  kld = entropy(dist1[:,feature],dist2[:,feature])\n",
        "  emd = wasserstein_distance(dist1[:,feature],dist2[:,feature])\n",
        "  jsd = distance.jensenshannon(dist1[:,feature],dist2[:,feature]) ** 2\n",
        "  return [kld, emd, jsd]"
      ],
      "execution_count": 15,
      "outputs": []
    },
    {
      "cell_type": "markdown",
      "metadata": {
        "id": "onj3p0CD3xVT"
      },
      "source": [
        "## Training step.\n",
        "\n",
        "We have 1k training steps, each of which uses 1k random sample training data sets. We visualize the training loss and the metrics for the distributions."
      ]
    },
    {
      "cell_type": "code",
      "metadata": {
        "id": "zjJWFBqIVShW",
        "colab": {
          "base_uri": "https://localhost:8080/"
        },
        "outputId": "60403ee6-0ed6-4bd3-9710-544d4937397f"
      },
      "source": [
        "num_iter = 1000\n",
        "start_now = datetime.now()\n",
        "start_time = start_now.strftime(\"%H:%M:%S\")\n",
        "print(\"Start Time =\", start_time)\n",
        "losses = []\n",
        "f1_kd = []\n",
        "f1_em = []\n",
        "f1_js = []\n",
        "f2_em = []\n",
        "f3_em = []\n",
        "\n",
        "for i in range(num_iter):\n",
        "    # x, y = datasets.make_moons(12, noise=.1)\n",
        "    # x = torch.tensor(x, dtype=torch.float32)\n",
        "    # print(x)\n",
        "    # print(y)\n",
        "    sampleDict = xz.sample(1000)\n",
        "    x_train = sampleDict[\"x\"][:, 0:num_features].to(device)\n",
        "    z_train = sampleDict[\"z\"][:, 0:num_features].to(device)\n",
        "\n",
        "    #print(xxx)\n",
        "    #xx = sampleDict[\"xwithoutPid\"].to(device)\n",
        "    #data_train_X = pd.DataFrame(gauss_scaler.transform(xx))\n",
        "    #data_train_Z = data_train_X.to_numpy()\n",
        "    #xp =  data_train_Z[:, 0:num_features]\n",
        "    x# = torch.from_numpy(xp)\n",
        "    #print(x)\n",
        "    #y = sampleDict[\"xwithoutPid\"][:, 1:2] \n",
        "    #print(x)\n",
        "    optimizer.zero_grad()\n",
        "    loss = -flow.log_prob(inputs=x_train,context=z_train).mean()\n",
        "    #loss = -flow.log_prob(inputs=xxx,context=xxx).mean()\n",
        "    #print(loss)\n",
        "    loss.backward()\n",
        "    optimizer.step()\n",
        "    \n",
        "    losses.append(loss.item())\n",
        "\n",
        "    if i %100 == 0:\n",
        "        run_time = datetime.now()\n",
        "        elapsedTime = (run_time - start_now )\n",
        "        print(\"On step {} - loss {:.2f}, Current Running Time = {:.2f} seconds\".format(i,loss.item(),elapsedTime.total_seconds())) \n",
        "\n",
        "    if i == 5000 == 0:\n",
        "            run_time = datetime.now()\n",
        "            elapsedTime = (run_time - start_now )\n",
        "            \n",
        "            bbb = 50000\n",
        "            z= flow.sample(bbb).cpu().detach().numpy()\n",
        "            sampleDict = xz.sample(bbb)\n",
        "            x = sampleDict[\"x\"][:, 0:num_features] \n",
        "            x = x.detach().numpy()\n",
        "\n",
        "            #plot_histo_1D(x,z)\n",
        "\n",
        "            f1 = meter(x,z,0)\n",
        "            f2 = meter(x,z,1)\n",
        "            #f3 = meter(x,z,2)\n",
        "            #f4 = meter(x,z,3)\n",
        "\n",
        "            bin_size = [100,100]\n",
        "            fig, ax = plt.subplots(figsize =(10, 7)) \n",
        "            plt.rcParams[\"font.size\"] = \"16\"\n",
        "            ax.set_xlabel(\"Electron Momentum\")  \n",
        "            ax.set_ylabel(\"Proton Momentum\")\n",
        "            plt.title('NFlow Generated EP Distribution')\n",
        "\n",
        "            plt.hist2d(z[:,0], z[:,1],bins =bin_size,norm=mpl.colors.LogNorm())# cmap = plt.cm.nipy_spectral) \n",
        "            #plt.xlim([-2,2])\n",
        "            #plt.ylim([-2,2])\n",
        "            plt.colorbar()\n",
        "            plt.show()\n",
        "\n",
        "\n",
        "            #if f1[1]*f2[1]*f3[1]*f4[1] < 1:\n",
        "            print(\"On step {} - loss {:.2f}, Current Running Time = {:.2f} seconds\".format(i,loss.item(),elapsedTime.total_seconds())) \n",
        "            #print(\"EM Distance   Values: F0: {:.5f}  F1: {:.5f}  F2: {:.5f} F3: {:.5f} \".format((f1[1]),(f2[1]),(f3[1]),(f4[1]),))\n",
        "            print(\"EM Distance   Values: F0: {:.5f}  F1: {:.5f}  F2: {:.5f} F3: {:.5f} \".format((f1[1]),(f2[1]),(f2[1]),(f2[1]),))\n",
        "            #if f1[1]*f2[1] < .001:\n",
        "              #break\n",
        "\n",
        "            f1_kd.append(f1[0])\n",
        "            f1_em.append(f1[1])\n",
        "            f1_js.append(f1[2])\n",
        "            f2_em.append(f2[1])\n",
        "            #f3_em.append(f3[1])\n",
        "            #f4_em.append(f4[1])\n",
        "\n",
        "\n",
        "now = datetime.now()\n",
        "end_time = now.strftime(\"%H:%M:%S\")\n",
        "print(\"End Time =\", end_time)\n",
        "elapsedTime = (now - start_now )\n",
        "print(\"Total Run Time = {:.5f} seconds\".format(elapsedTime.total_seconds()))\n",
        "    # if (i + 1) % 50 == 0:\n",
        "    #     xline = torch.linspace(-1.5, 2.5)\n",
        "    #     yline = torch.linspace(-.75, 1.25)\n",
        "    #     xgrid, ygrid = torch.meshgrid(xline, yline)\n",
        "    #     xyinput = torch.cat([xgrid.reshape(-1, 1), ygrid.reshape(-1, 1)], dim=1)\n",
        "\n",
        "    #     with torch.no_grad():\n",
        "    #         zgrid = flow.log_prob(xyinput).exp().reshape(100, 100)\n",
        "\n",
        "    #     plt.contourf(xgrid.numpy(), ygrid.numpy(), zgrid.numpy())\n",
        "    #     plt.title('iteration {}'.format(i + 1))\n",
        "    #     plt.show()"
      ],
      "execution_count": 16,
      "outputs": [
        {
          "output_type": "stream",
          "text": [
            "Start Time = 21:59:15\n",
            "On step 0 - loss 5.89, Current Running Time = 0.24 seconds\n",
            "On step 100 - loss -2.43, Current Running Time = 2.33 seconds\n",
            "On step 200 - loss -4.17, Current Running Time = 4.35 seconds\n",
            "On step 300 - loss -1.72, Current Running Time = 6.38 seconds\n",
            "On step 400 - loss -5.34, Current Running Time = 8.41 seconds\n",
            "On step 500 - loss -4.80, Current Running Time = 10.43 seconds\n",
            "On step 600 - loss -5.53, Current Running Time = 12.46 seconds\n",
            "On step 700 - loss -5.54, Current Running Time = 14.52 seconds\n",
            "On step 800 - loss -5.69, Current Running Time = 16.56 seconds\n",
            "On step 900 - loss -5.68, Current Running Time = 18.57 seconds\n",
            "End Time = 21:59:36\n",
            "Total Run Time = 20.56919 seconds\n"
          ],
          "name": "stdout"
        }
      ]
    },
    {
      "cell_type": "markdown",
      "metadata": {
        "id": "05BqseQo4PjP"
      },
      "source": [
        "## Test step.\n",
        "We evaluate our model by sampling new $\\mathbf{x}$. We calculate the metrics between evaluation data set from NF and physics samples from that we have."
      ]
    },
    {
      "cell_type": "code",
      "metadata": {
        "colab": {
          "base_uri": "https://localhost:8080/",
          "height": 689
        },
        "id": "Jvs_TRhYhxUC",
        "outputId": "4fafd252-3e8e-4733-862b-538f67063f09"
      },
      "source": [
        "nsamp = 100000\n",
        "sampleDict = xz.sample(nsamp) #Get a subset of the datapoints\n",
        "x = sampleDict[\"x\"]\n",
        "x = x.detach().numpy()\n",
        "z = sampleDict[\"z\"]\n",
        "z = z.detach().numpy()\n",
        "\n",
        "context_val = torch.tensor(z, dtype=torch.float32).to(device)\n",
        "\n",
        "val_gen = flow.sample(1,context=context_val).cpu().detach().numpy().reshape((nsamp,-1))\n",
        "\n",
        "\n",
        "plt.hist(x[:,0],color = \"red\", density=True,bins=100)\n",
        "plt.hist(val_gen[:,0],color = \"black\",alpha=0.5, density=True,bins=100)\n",
        "plt.xlim([-3,3])\n",
        "\n",
        "\n",
        "fig, ax = plt.subplots(figsize =(5, 3)) \n",
        "plt.hist2d(x[:,0], x[:,1],bins =bin_size,norm=mpl.colors.LogNorm())# cmap = plt.cm.nipy_spectral) \n",
        "plt.colorbar()\n",
        "print(\"next one\")\n",
        "\n",
        "fig, ax = plt.subplots(figsize =(5, 3)) \n",
        "plt.hist2d(val_gen[:,0], val_gen[:,1],bins =bin_size,norm=mpl.colors.LogNorm())# cmap = plt.cm.nipy_spectral) \n",
        "plt.colorbar()\n",
        "print(\"next one\")\n",
        "\n"
      ],
      "execution_count": 17,
      "outputs": [
        {
          "output_type": "stream",
          "text": [
            "next one\n",
            "next one\n"
          ],
          "name": "stdout"
        },
        {
          "output_type": "display_data",
          "data": {
            "image/png": "[encoded data removed]",
            "text/plain": [
              "<Figure size 432x288 with 1 Axes>"
            ]
          },
          "metadata": {
            "tags": [],
            "needs_background": "light"
          }
        },
        {
          "output_type": "display_data",
          "data": {
            "image/png": "[encoded data removed]",
            "text/plain": [
              "<Figure size 360x216 with 2 Axes>"
            ]
          },
          "metadata": {
            "tags": [],
            "needs_background": "light"
          }
        },
        {
          "output_type": "display_data",
          "data": {
            "image/png": "[encoded data removed]",
            "text/plain": [
              "<Figure size 360x216 with 2 Axes>"
            ]
          },
          "metadata": {
            "tags": [],
            "needs_background": "light"
          }
        }
      ]
    }
  ]
}